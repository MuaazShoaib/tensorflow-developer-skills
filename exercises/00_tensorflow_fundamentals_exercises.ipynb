{
  "cells": [
    {
      "cell_type": "markdown",
      "metadata": {
        "id": "view-in-github",
        "colab_type": "text"
      },
      "source": [
        "<a href=\"https://colab.research.google.com/github/MuaazShoaib/tensorflow-developer-skills/blob/main/exercises/00_tensorflow_fundamentals_exercises.ipynb\" target=\"_parent\"><img src=\"https://colab.research.google.com/assets/colab-badge.svg\" alt=\"Open In Colab\"/></a>"
      ]
    },
    {
      "cell_type": "markdown",
      "source": [
        "# TensorFlow Fundamentals Exercises\n"
      ],
      "metadata": {
        "collapsed": false,
        "id": "m3Mst9lTUL4x"
      }
    },
    {
      "cell_type": "markdown",
      "source": [
        "## Q1: Create a vector, scalar, matrix and tensor with values of your choosing using tf.constant()."
      ],
      "metadata": {
        "id": "9hpV9_tbUQtX"
      }
    },
    {
      "cell_type": "code",
      "execution_count": 160,
      "metadata": {
        "collapsed": true,
        "id": "QAQe6_-lUL41"
      },
      "outputs": [],
      "source": [
        "# Import the tensorflow\n",
        "import tensorflow as tf"
      ]
    },
    {
      "cell_type": "code",
      "execution_count": 161,
      "outputs": [
        {
          "output_type": "execute_result",
          "data": {
            "text/plain": [
              "<tf.Tensor: shape=(), dtype=int32, numpy=21>"
            ]
          },
          "metadata": {},
          "execution_count": 161
        }
      ],
      "source": [
        "# Create a scalar\n",
        "scalar = tf.constant(21)\n",
        "scalar"
      ],
      "metadata": {
        "pycharm": {
          "name": "#%%\n"
        },
        "colab": {
          "base_uri": "https://localhost:8080/"
        },
        "id": "yDIs55MFUL45",
        "outputId": "4fb0d413-3527-41e8-f72d-4725737ea101"
      }
    },
    {
      "cell_type": "code",
      "execution_count": 162,
      "outputs": [
        {
          "output_type": "execute_result",
          "data": {
            "text/plain": [
              "<tf.Tensor: shape=(2,), dtype=int32, numpy=array([21, 22], dtype=int32)>"
            ]
          },
          "metadata": {},
          "execution_count": 162
        }
      ],
      "source": [
        "# Create a vector\n",
        "vector = tf.constant([21, 22])\n",
        "vector"
      ],
      "metadata": {
        "pycharm": {
          "name": "#%%\n"
        },
        "colab": {
          "base_uri": "https://localhost:8080/"
        },
        "id": "F7ozoUJrUL46",
        "outputId": "5843ddbc-4556-4683-a9ce-f074791f1764"
      }
    },
    {
      "cell_type": "code",
      "source": [
        "# Create a matrix\n",
        "matrix = tf.constant([[1, 2],\n",
        "                      [3, 4]])\n",
        "matrix"
      ],
      "metadata": {
        "colab": {
          "base_uri": "https://localhost:8080/"
        },
        "id": "5CMOGpE8UmeK",
        "outputId": "c9e164a4-49fe-4bf9-ee16-01e6ae3177af"
      },
      "execution_count": 163,
      "outputs": [
        {
          "output_type": "execute_result",
          "data": {
            "text/plain": [
              "<tf.Tensor: shape=(2, 2), dtype=int32, numpy=\n",
              "array([[1, 2],\n",
              "       [3, 4]], dtype=int32)>"
            ]
          },
          "metadata": {},
          "execution_count": 163
        }
      ]
    },
    {
      "cell_type": "code",
      "source": [
        "# Create a tensor \n",
        "tensor = tf.constant([ [ [1, 2, 3],    [4, 5, 6],    [7, 8, 9] ],\n",
        "                       [ [10, 11, 12], [13, 14, 15], [16, 17, 18] ],\n",
        "                       [ [19, 20, 21], [22, 23, 24], [26, 27, 28] ] ])\n",
        "tensor"
      ],
      "metadata": {
        "colab": {
          "base_uri": "https://localhost:8080/"
        },
        "id": "HymZvufrU4Z1",
        "outputId": "cf315c22-8630-4019-ae25-582132d56da5"
      },
      "execution_count": 164,
      "outputs": [
        {
          "output_type": "execute_result",
          "data": {
            "text/plain": [
              "<tf.Tensor: shape=(3, 3, 3), dtype=int32, numpy=\n",
              "array([[[ 1,  2,  3],\n",
              "        [ 4,  5,  6],\n",
              "        [ 7,  8,  9]],\n",
              "\n",
              "       [[10, 11, 12],\n",
              "        [13, 14, 15],\n",
              "        [16, 17, 18]],\n",
              "\n",
              "       [[19, 20, 21],\n",
              "        [22, 23, 24],\n",
              "        [26, 27, 28]]], dtype=int32)>"
            ]
          },
          "metadata": {},
          "execution_count": 164
        }
      ]
    },
    {
      "cell_type": "markdown",
      "source": [
        "## Q2: Find the shape, rank and size of the tensors you created in 1"
      ],
      "metadata": {
        "id": "vW93hEA5WTrU"
      }
    },
    {
      "cell_type": "code",
      "source": [
        "# Let's find the shape of our scalar, vector, matrix and tensor\n",
        "print(f\"Shape of scalar is {scalar.shape}\")\n",
        "print(f\"Shape of vector is {vector.shape}\")\n",
        "print(f\"Shape of matrix is {matrix.shape}\")\n",
        "print(f\"Shape of tensor is {tensor.shape}\")"
      ],
      "metadata": {
        "colab": {
          "base_uri": "https://localhost:8080/"
        },
        "id": "_8kIqW2PV6E-",
        "outputId": "725a4ce0-a77b-4f32-9554-bee8a7d01777"
      },
      "execution_count": 165,
      "outputs": [
        {
          "output_type": "stream",
          "name": "stdout",
          "text": [
            "Shape of scalar is ()\n",
            "Shape of vector is (2,)\n",
            "Shape of matrix is (2, 2)\n",
            "Shape of tensor is (3, 3, 3)\n"
          ]
        }
      ]
    },
    {
      "cell_type": "code",
      "source": [
        "# Let's find the rank of our scalar, vector, matrix and tensor\n",
        "print(f\"Rank of scalar is {tf.rank(scalar)}\")\n",
        "print(f\"Rank of vector is {tf.rank(vector)}\")\n",
        "print(f\"Rank of matrix is {tf.rank(matrix)}\")\n",
        "print(f\"Rank of tensor is {tf.rank(tensor)}\")"
      ],
      "metadata": {
        "colab": {
          "base_uri": "https://localhost:8080/"
        },
        "id": "F4FdCSweWrxD",
        "outputId": "cf3879eb-ce3b-4355-a576-a5b05214a603"
      },
      "execution_count": 166,
      "outputs": [
        {
          "output_type": "stream",
          "name": "stdout",
          "text": [
            "Rank of scalar is 0\n",
            "Rank of vector is 1\n",
            "Rank of matrix is 2\n",
            "Rank of tensor is 3\n"
          ]
        }
      ]
    },
    {
      "cell_type": "code",
      "source": [
        "# Let's find the size of our scalar, vector, matrix and tensor\n",
        "print(f\"Size of scalar is {tf.size(scalar)}\")\n",
        "print(f\"Size of vector is {tf.size(vector)}\")\n",
        "print(f\"Size of matrix is {tf.size(matrix)}\")\n",
        "print(f\"Size of tensor is {tf.size(tensor)}\")"
      ],
      "metadata": {
        "colab": {
          "base_uri": "https://localhost:8080/"
        },
        "id": "mVF59YW-XVqI",
        "outputId": "4724a0bc-e6b1-4eb8-8e85-8334e953cd42"
      },
      "execution_count": 167,
      "outputs": [
        {
          "output_type": "stream",
          "name": "stdout",
          "text": [
            "Size of scalar is 1\n",
            "Size of vector is 2\n",
            "Size of matrix is 4\n",
            "Size of tensor is 27\n"
          ]
        }
      ]
    },
    {
      "cell_type": "markdown",
      "source": [
        "## Q3: Create two tensors containing random values between 0 and 1 with shape [5, 300]."
      ],
      "metadata": {
        "id": "NPoVlop-Y8M_"
      }
    },
    {
      "cell_type": "code",
      "source": [
        "# Create our first random tensor\n",
        "random_tensor_1 = tf.random.uniform(shape=[5, 300])\n",
        "random_tensor_1"
      ],
      "metadata": {
        "colab": {
          "base_uri": "https://localhost:8080/"
        },
        "id": "iZJSAjnjYiok",
        "outputId": "7d0811f8-75f4-4a44-91a0-cd946ae4ddae"
      },
      "execution_count": 168,
      "outputs": [
        {
          "output_type": "execute_result",
          "data": {
            "text/plain": [
              "<tf.Tensor: shape=(5, 300), dtype=float32, numpy=\n",
              "array([[0.85860956, 0.00195193, 0.40702534, ..., 0.30070937, 0.99951696,\n",
              "        0.1596942 ],\n",
              "       [0.7924259 , 0.7339566 , 0.61260605, ..., 0.02420127, 0.7978147 ,\n",
              "        0.7850174 ],\n",
              "       [0.58156824, 0.2869699 , 0.71779716, ..., 0.14286089, 0.12004876,\n",
              "        0.28885448],\n",
              "       [0.7858658 , 0.63497615, 0.7495785 , ..., 0.9402554 , 0.6601002 ,\n",
              "        0.8622819 ],\n",
              "       [0.47175527, 0.61394346, 0.27731383, ..., 0.6899054 , 0.8179256 ,\n",
              "        0.07236385]], dtype=float32)>"
            ]
          },
          "metadata": {},
          "execution_count": 168
        }
      ]
    },
    {
      "cell_type": "code",
      "source": [
        "# Create our second random tensor\n",
        "random_tensor_2 = tf.random.uniform(shape=[5, 300])\n",
        "random_tensor_2"
      ],
      "metadata": {
        "colab": {
          "base_uri": "https://localhost:8080/"
        },
        "id": "AsCF7158Zs4K",
        "outputId": "e1f6adff-13be-407a-eba9-c8714fffa9e1"
      },
      "execution_count": 169,
      "outputs": [
        {
          "output_type": "execute_result",
          "data": {
            "text/plain": [
              "<tf.Tensor: shape=(5, 300), dtype=float32, numpy=\n",
              "array([[0.85946023, 0.8453622 , 0.5719652 , ..., 0.59839034, 0.41028082,\n",
              "        0.84363973],\n",
              "       [0.37625635, 0.5062573 , 0.81295514, ..., 0.44539583, 0.8500812 ,\n",
              "        0.2728753 ],\n",
              "       [0.41253507, 0.84780693, 0.6621851 , ..., 0.68239105, 0.916559  ,\n",
              "        0.35940242],\n",
              "       [0.2360121 , 0.20527196, 0.5881709 , ..., 0.73829997, 0.68141425,\n",
              "        0.571658  ],\n",
              "       [0.2283876 , 0.75911236, 0.9371692 , ..., 0.96036816, 0.3113693 ,\n",
              "        0.04420877]], dtype=float32)>"
            ]
          },
          "metadata": {},
          "execution_count": 169
        }
      ]
    },
    {
      "cell_type": "markdown",
      "source": [
        "## Q4: Multiply the two tensors you created in 3 using matrix multiplication."
      ],
      "metadata": {
        "id": "xAhO0VOsaeyr"
      }
    },
    {
      "cell_type": "code",
      "source": [
        "# Multiply the two tensors using matrix multiplication\n",
        "tf.linalg.matmul(random_tensor_1, tf.transpose(random_tensor_2))"
      ],
      "metadata": {
        "colab": {
          "base_uri": "https://localhost:8080/"
        },
        "id": "YAAthorfZ4_n",
        "outputId": "6c9b3ab9-37e0-4579-86a3-4674bca46468"
      },
      "execution_count": 170,
      "outputs": [
        {
          "output_type": "execute_result",
          "data": {
            "text/plain": [
              "<tf.Tensor: shape=(5, 5), dtype=float32, numpy=\n",
              "array([[73.58648 , 74.48924 , 73.00532 , 66.73194 , 72.56195 ],\n",
              "       [79.623   , 78.61002 , 76.44096 , 73.44424 , 76.65093 ],\n",
              "       [74.99753 , 76.5493  , 77.32937 , 72.629745, 77.56169 ],\n",
              "       [78.32704 , 76.8571  , 77.27814 , 73.97169 , 80.37349 ],\n",
              "       [77.16426 , 74.8389  , 73.46617 , 69.50926 , 76.55972 ]],\n",
              "      dtype=float32)>"
            ]
          },
          "metadata": {},
          "execution_count": 170
        }
      ]
    },
    {
      "cell_type": "markdown",
      "source": [
        "## Q5: Multiply the two tensors you created in 3 using dot product."
      ],
      "metadata": {
        "id": "IIUzL44GbuIr"
      }
    },
    {
      "cell_type": "code",
      "source": [
        "# Multiply the two tensors using dot product\n",
        "tf.tensordot(random_tensor_1, tf.transpose(random_tensor_2), axes=1)"
      ],
      "metadata": {
        "colab": {
          "base_uri": "https://localhost:8080/"
        },
        "id": "d5VCVc_0btpw",
        "outputId": "a309a1b8-9305-4289-ff82-c07eb413117b"
      },
      "execution_count": 171,
      "outputs": [
        {
          "output_type": "execute_result",
          "data": {
            "text/plain": [
              "<tf.Tensor: shape=(5, 5), dtype=float32, numpy=\n",
              "array([[73.58648 , 74.48924 , 73.00532 , 66.73194 , 72.56195 ],\n",
              "       [79.623   , 78.61002 , 76.44096 , 73.44424 , 76.65093 ],\n",
              "       [74.99753 , 76.5493  , 77.32937 , 72.629745, 77.56169 ],\n",
              "       [78.32704 , 76.8571  , 77.27814 , 73.97169 , 80.37349 ],\n",
              "       [77.16426 , 74.8389  , 73.46617 , 69.50926 , 76.55972 ]],\n",
              "      dtype=float32)>"
            ]
          },
          "metadata": {},
          "execution_count": 171
        }
      ]
    },
    {
      "cell_type": "markdown",
      "source": [
        "## Q6: Create a tensor with random values between 0 and 1 with shape [224, 224, 3]."
      ],
      "metadata": {
        "id": "RdOByLepc0_y"
      }
    },
    {
      "cell_type": "code",
      "source": [
        "# Create a random tensor\n",
        "random_tensor_3 = tf.random.uniform(shape=[224, 224, 3])\n",
        "random_tensor_3"
      ],
      "metadata": {
        "colab": {
          "base_uri": "https://localhost:8080/"
        },
        "id": "hCkYjOhGbWgb",
        "outputId": "64b7e972-5857-4e35-8ad1-c30965d82895"
      },
      "execution_count": 172,
      "outputs": [
        {
          "output_type": "execute_result",
          "data": {
            "text/plain": [
              "<tf.Tensor: shape=(224, 224, 3), dtype=float32, numpy=\n",
              "array([[[0.860716  , 0.02828157, 0.08573496],\n",
              "        [0.3491    , 0.45013833, 0.01111233],\n",
              "        [0.20068479, 0.20966566, 0.92417026],\n",
              "        ...,\n",
              "        [0.8897306 , 0.4671625 , 0.17027712],\n",
              "        [0.7646797 , 0.13778996, 0.9500711 ],\n",
              "        [0.42563987, 0.96943307, 0.9810568 ]],\n",
              "\n",
              "       [[0.48822403, 0.19476902, 0.3190918 ],\n",
              "        [0.4758637 , 0.02318692, 0.89308035],\n",
              "        [0.26010394, 0.18963873, 0.14670444],\n",
              "        ...,\n",
              "        [0.67326593, 0.79181695, 0.76999414],\n",
              "        [0.34706938, 0.85906005, 0.42769635],\n",
              "        [0.2722262 , 0.96193695, 0.5646595 ]],\n",
              "\n",
              "       [[0.5018407 , 0.74244213, 0.9963938 ],\n",
              "        [0.41835368, 0.5455353 , 0.63503075],\n",
              "        [0.49006426, 0.59326315, 0.66909933],\n",
              "        ...,\n",
              "        [0.8078475 , 0.01626539, 0.81756437],\n",
              "        [0.05361569, 0.7703253 , 0.35478842],\n",
              "        [0.8529792 , 0.7732649 , 0.44347155]],\n",
              "\n",
              "       ...,\n",
              "\n",
              "       [[0.12719023, 0.54127765, 0.19160223],\n",
              "        [0.7933216 , 0.24088514, 0.00422478],\n",
              "        [0.24632335, 0.94981384, 0.63541174],\n",
              "        ...,\n",
              "        [0.58627915, 0.1370666 , 0.39217365],\n",
              "        [0.8878244 , 0.9110031 , 0.6455467 ],\n",
              "        [0.40693998, 0.25705695, 0.12911975]],\n",
              "\n",
              "       [[0.91145253, 0.8653314 , 0.3507825 ],\n",
              "        [0.23662376, 0.48887002, 0.07209063],\n",
              "        [0.49215484, 0.41843605, 0.65823305],\n",
              "        ...,\n",
              "        [0.1632843 , 0.37346303, 0.43895423],\n",
              "        [0.81074274, 0.49468493, 0.587729  ],\n",
              "        [0.7796098 , 0.39831698, 0.35188293]],\n",
              "\n",
              "       [[0.8696976 , 0.8180442 , 0.31552458],\n",
              "        [0.8323616 , 0.6514188 , 0.4431213 ],\n",
              "        [0.63397515, 0.44831252, 0.9505503 ],\n",
              "        ...,\n",
              "        [0.86290765, 0.40270412, 0.10089731],\n",
              "        [0.41240442, 0.8520225 , 0.45787084],\n",
              "        [0.00136113, 0.8256067 , 0.70874727]]], dtype=float32)>"
            ]
          },
          "metadata": {},
          "execution_count": 172
        }
      ]
    },
    {
      "cell_type": "markdown",
      "source": [
        "## Q7: Find the min and max values of the tensor you created in 6."
      ],
      "metadata": {
        "id": "VcZGkVZgdXOV"
      }
    },
    {
      "cell_type": "code",
      "source": [
        "# Find the max and min values random_tensor_3\n",
        "print(f\"The max value is {tf.reduce_max(random_tensor_3)}\")\n",
        "print(f\"The min value is {tf.reduce_min(random_tensor_3)}\")"
      ],
      "metadata": {
        "colab": {
          "base_uri": "https://localhost:8080/"
        },
        "id": "H2ruWGyidSIu",
        "outputId": "303d43bd-00a3-4678-b19d-3e1cfeb39cc1"
      },
      "execution_count": 173,
      "outputs": [
        {
          "output_type": "stream",
          "name": "stdout",
          "text": [
            "The max value is 0.9999967813491821\n",
            "The min value is 3.5762786865234375e-07\n"
          ]
        }
      ]
    },
    {
      "cell_type": "markdown",
      "source": [
        "## Q8: Created a tensor with random values of shape [1, 224, 224, 3] then squeeze it to change the shape to [224, 224, 3]."
      ],
      "metadata": {
        "id": "p-SmipStd3JM"
      }
    },
    {
      "cell_type": "code",
      "source": [
        "# Create a tensor with random values of shape [1, 224, 224, 3]\n",
        "random_tensor_4 = tf.random.normal(shape=[1, 224, 224, 3])\n",
        "print(f\"Before squeezing, the shape of our random_tensor_4  is {random_tensor_4.shape}\")\n",
        "print(f\"After squeezing, the shape of our random_tensor_4  is {tf.squeeze(random_tensor_4).shape}\")"
      ],
      "metadata": {
        "colab": {
          "base_uri": "https://localhost:8080/"
        },
        "id": "6WC8l0Mtd20w",
        "outputId": "e8750006-af7f-4034-a86f-85dea4ca8a2b"
      },
      "execution_count": 174,
      "outputs": [
        {
          "output_type": "stream",
          "name": "stdout",
          "text": [
            "Before squeezing, the shape of our random_tensor_4  is (1, 224, 224, 3)\n",
            "After squeezing, the shape of our random_tensor_4  is (224, 224, 3)\n"
          ]
        }
      ]
    },
    {
      "cell_type": "markdown",
      "source": [
        "## Q9: Create a tensor with shape [10] using your own choice of values, then find the index which has the maximum value."
      ],
      "metadata": {
        "id": "vZ1oUqPLf1mj"
      }
    },
    {
      "cell_type": "code",
      "source": [
        "# Create a random tensor\n",
        "random_tensor_5 = tf.random.uniform(shape=[10], minval=1, maxval=10, dtype=tf.dtypes.int32)\n",
        "random_tensor_5"
      ],
      "metadata": {
        "colab": {
          "base_uri": "https://localhost:8080/"
        },
        "id": "dGX6zQc7flVH",
        "outputId": "2bf84e36-3028-411f-de17-824f741293cc"
      },
      "execution_count": 175,
      "outputs": [
        {
          "output_type": "execute_result",
          "data": {
            "text/plain": [
              "<tf.Tensor: shape=(10,), dtype=int32, numpy=array([7, 1, 6, 6, 5, 8, 3, 5, 6, 9], dtype=int32)>"
            ]
          },
          "metadata": {},
          "execution_count": 175
        }
      ]
    },
    {
      "cell_type": "code",
      "source": [
        "# Find the index which has the maximum value.\n",
        "print(f\"The index of max value is {tf.math.argmax(random_tensor_5)}\")"
      ],
      "metadata": {
        "colab": {
          "base_uri": "https://localhost:8080/"
        },
        "id": "VTAeRLYbgEh4",
        "outputId": "60102872-6054-4754-c489-9ffc65b4f2bb"
      },
      "execution_count": 176,
      "outputs": [
        {
          "output_type": "stream",
          "name": "stdout",
          "text": [
            "The index of max value is 9\n"
          ]
        }
      ]
    },
    {
      "cell_type": "markdown",
      "source": [
        "## Q10: One-hot encode the tensor you created in 9."
      ],
      "metadata": {
        "id": "mi0pKz46hGB4"
      }
    },
    {
      "cell_type": "code",
      "source": [
        "# One-hot encode the tensor\n",
        "tf.one_hot(random_tensor_5.numpy().tolist(), depth=10)"
      ],
      "metadata": {
        "colab": {
          "base_uri": "https://localhost:8080/"
        },
        "id": "9TqE2I7tg0Kc",
        "outputId": "b31ae271-d371-4daa-dd0e-aebac30d0115"
      },
      "execution_count": 177,
      "outputs": [
        {
          "output_type": "execute_result",
          "data": {
            "text/plain": [
              "<tf.Tensor: shape=(10, 10), dtype=float32, numpy=\n",
              "array([[0., 0., 0., 0., 0., 0., 0., 1., 0., 0.],\n",
              "       [0., 1., 0., 0., 0., 0., 0., 0., 0., 0.],\n",
              "       [0., 0., 0., 0., 0., 0., 1., 0., 0., 0.],\n",
              "       [0., 0., 0., 0., 0., 0., 1., 0., 0., 0.],\n",
              "       [0., 0., 0., 0., 0., 1., 0., 0., 0., 0.],\n",
              "       [0., 0., 0., 0., 0., 0., 0., 0., 1., 0.],\n",
              "       [0., 0., 0., 1., 0., 0., 0., 0., 0., 0.],\n",
              "       [0., 0., 0., 0., 0., 1., 0., 0., 0., 0.],\n",
              "       [0., 0., 0., 0., 0., 0., 1., 0., 0., 0.],\n",
              "       [0., 0., 0., 0., 0., 0., 0., 0., 0., 1.]], dtype=float32)>"
            ]
          },
          "metadata": {},
          "execution_count": 177
        }
      ]
    },
    {
      "cell_type": "code",
      "source": [
        ""
      ],
      "metadata": {
        "id": "yHavRofTidbf"
      },
      "execution_count": 177,
      "outputs": []
    }
  ],
  "metadata": {
    "kernelspec": {
      "display_name": "Python 3",
      "language": "python",
      "name": "python3"
    },
    "language_info": {
      "codemirror_mode": {
        "name": "ipython",
        "version": 2
      },
      "file_extension": ".py",
      "mimetype": "text/x-python",
      "name": "python",
      "nbconvert_exporter": "python",
      "pygments_lexer": "ipython2",
      "version": "2.7.6"
    },
    "colab": {
      "name": "00_tensorflow_fundamentals_exercises.ipynb",
      "provenance": [],
      "collapsed_sections": [],
      "toc_visible": true,
      "include_colab_link": true
    }
  },
  "nbformat": 4,
  "nbformat_minor": 0
}